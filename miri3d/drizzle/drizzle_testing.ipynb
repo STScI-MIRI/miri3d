{
 "cells": [
  {
   "cell_type": "markdown",
   "metadata": {},
   "source": [
    "Notebook for testing drizzle algorithm implementation"
   ]
  },
  {
   "cell_type": "code",
   "execution_count": 1,
   "metadata": {},
   "outputs": [],
   "source": [
    "import matplotlib as mpl\n",
    "import matplotlib.pyplot as plt"
   ]
  },
  {
   "cell_type": "code",
   "execution_count": 2,
   "metadata": {},
   "outputs": [],
   "source": [
    "# Requires the 'shapely' and 'descartes' packages\n",
    "import shapely\n",
    "from shapely.geometry import Polygon\n",
    "import shapely.geometry as sg\n",
    "import descartes as dc"
   ]
  },
  {
   "cell_type": "code",
   "execution_count": 27,
   "metadata": {},
   "outputs": [],
   "source": [
    "polygon = sg.Polygon([(0, 0), (0,1), (1, 1), (1, 0)])\n",
    "polygon2 = sg.Polygon([(0.5,0.5),(3.5,0.5),(3.5,1.5),(0.5,1.5)])\n",
    "rot1=shapely.affinity.rotate(polygon,45)\n",
    "rot1=shapely.affinity.scale(rot1,xfact=0.5,yfact=0.5)\n",
    "rot1=shapely.affinity.translate(rot1,xoff=0.2)"
   ]
  },
  {
   "cell_type": "code",
   "execution_count": 28,
   "metadata": {},
   "outputs": [
    {
     "data": {
      "image/png": "[encoded data removed]",
      "text/plain": [
       "<Figure size 432x288 with 1 Axes>"
      ]
     },
     "metadata": {
      "needs_background": "light"
     },
     "output_type": "display_data"
    }
   ],
   "source": [
    "fig = plt.figure() \n",
    "ax = fig.add_axes((0.1,0.1,1.8,0.8))\n",
    "patch = dc.PolygonPatch(rot1, facecolor=[0,0,0.9], edgecolor=[1,1,1], alpha=0.5) \n",
    "ax.add_patch(patch)\n",
    "patch2 = dc.PolygonPatch(polygon2, facecolor=[0,0.9,0.], edgecolor=[1,1,1], alpha=0.5) \n",
    "ax.add_patch(patch2)\n",
    "plt.xlim([-1,3])\n",
    "plt.ylim([-1,3])\n",
    "ax.set_aspect(1)\n",
    "plt.show()"
   ]
  },
  {
   "cell_type": "code",
   "execution_count": 29,
   "metadata": {},
   "outputs": [
    {
     "data": {
      "text/plain": [
       "(0.24999999999999994, 3.0)"
      ]
     },
     "execution_count": 29,
     "metadata": {},
     "output_type": "execute_result"
    }
   ],
   "source": [
    "rot1.area,polygon2.area"
   ]
  },
  {
   "cell_type": "code",
   "execution_count": 30,
   "metadata": {},
   "outputs": [
    {
     "data": {
      "text/plain": [
       "0.11321067811865472"
      ]
     },
     "execution_count": 30,
     "metadata": {},
     "output_type": "execute_result"
    }
   ],
   "source": [
    "rot1.intersection(polygon2).area"
   ]
  },
  {
   "cell_type": "code",
   "execution_count": null,
   "metadata": {},
   "outputs": [],
   "source": []
  }
 ],
 "metadata": {
  "kernelspec": {
   "display_name": "Python 3",
   "language": "python",
   "name": "python3"
  },
  "language_info": {
   "codemirror_mode": {
    "name": "ipython",
    "version": 3
   },
   "file_extension": ".py",
   "mimetype": "text/x-python",
   "name": "python",
   "nbconvert_exporter": "python",
   "pygments_lexer": "ipython3",
   "version": "3.6.8"
  }
 },
 "nbformat": 4,
 "nbformat_minor": 2
}
